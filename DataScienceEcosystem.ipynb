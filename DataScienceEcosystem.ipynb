{
  "cells": [
    {
      "metadata": {
        "id": "PRAK9EBGeaji"
      },
      "cell_type": "markdown",
      "source": [
        "<center>\n",
        "    <img src=\"https://cf-courses-data.s3.us.cloud-object-storage.appdomain.cloud/IBMDeveloperSkillsNetwork-DS0105EN-SkillsNetwork/labs/Module2/images/SN_web_lightmode.png\" width=\"300\" alt=\"cognitiveclass.ai logo\">\n",
        "</center>\n"
      ]
    },
    {
      "cell_type": "markdown",
      "source": [],
      "metadata": {
        "id": "JDnIs3tdfiaa"
      }
    },
    {
      "metadata": {
        "id": "6aCmfkWqeajm"
      },
      "cell_type": "markdown",
      "source": [
        "#### Add your code below following the instructions given in the course\n"
      ]
    },
    {
      "metadata": {
        "id": "KaEr0I_geajm"
      },
      "cell_type": "markdown",
      "source": [
        "# Data Science Tools and Ecosystem"
      ]
    },
    {
      "metadata": {
        "id": "USeAW3aVeajn"
      },
      "cell_type": "markdown",
      "source": [
        "In this notebook, Data Science Tools and Ecosystem are summarized."
      ]
    },
    {
      "metadata": {
        "id": "2gRRvMpmeajn"
      },
      "cell_type": "markdown",
      "source": [
        "__Objectives:__\n",
        "\n",
        "* List popular Data Science Languages\n",
        "* List commonly used Data Science libraries\n",
        "* List Data Science Development Tools\n",
        "* Examples of Evaluating Arithmetic expressions in Python"
      ]
    },
    {
      "metadata": {
        "id": "yvy--tIKeajn"
      },
      "cell_type": "markdown",
      "source": [
        "Some of the popular languages that Data Scientists use are:\n",
        "\n",
        "1. Python\n",
        "2. SQL\n",
        "3. R\n",
        "4. Scala"
      ]
    },
    {
      "metadata": {
        "id": "yrQDmmVpeajn"
      },
      "cell_type": "markdown",
      "source": [
        "Some of the commonly used libraries used by Data Scientists include:\n",
        "\n",
        "1. Keras\n",
        "2. scikit-learn\n",
        "3. Tensorflow\n",
        "4. PyTorch"
      ]
    },
    {
      "metadata": {
        "id": "FSx9SnFOeajo"
      },
      "cell_type": "markdown",
      "source": [
        "|Data Science Tools|\n",
        "|------------------|\n",
        "|Jupyter Notebook|\n",
        "|R Studio|\n",
        "|Zepplin Notebook|"
      ]
    },
    {
      "metadata": {
        "id": "L2TPWMibeajo"
      },
      "cell_type": "markdown",
      "source": [
        "### Below are a few examples of evaluating arithmetic expressions in Python"
      ]
    },
    {
      "metadata": {
        "id": "Np_suRbzeajo",
        "outputId": "809af37f-3d8a-4c69-d889-de08b9059d5b"
      },
      "cell_type": "code",
      "source": [
        "#This a simple arithmetic expression to mutiply then add integers\n",
        "\n",
        "print((3*4)+5)"
      ],
      "execution_count": null,
      "outputs": [
        {
          "output_type": "stream",
          "text": "17\n",
          "name": "stdout"
        }
      ]
    },
    {
      "metadata": {
        "id": "D4ok9OGZeajq",
        "outputId": "9734cea7-4716-4f12-f405-95e288b80ac3"
      },
      "cell_type": "code",
      "source": [
        "# This will convert 200 minutes to hours by diving by 60\n",
        "\n",
        "print(200//60,\"hours\",(200%60),\"minutes\")"
      ],
      "execution_count": null,
      "outputs": [
        {
          "output_type": "stream",
          "text": "3 hours 20 minutes\n",
          "name": "stdout"
        }
      ]
    },
    {
      "metadata": {
        "id": "SCPM7hQ6eajr"
      },
      "cell_type": "markdown",
      "source": [
        "## Author\n",
        "G S Sai Teja"
      ]
    }
  ],
  "metadata": {
    "kernelspec": {
      "name": "python3",
      "display_name": "Python 3.10",
      "language": "python"
    },
    "language_info": {
      "name": "python",
      "version": "3.10.6",
      "mimetype": "text/x-python",
      "codemirror_mode": {
        "name": "ipython",
        "version": 3
      },
      "pygments_lexer": "ipython3",
      "nbconvert_exporter": "python",
      "file_extension": ".py"
    },
    "colab": {
      "provenance": []
    }
  },
  "nbformat": 4,
  "nbformat_minor": 0
}